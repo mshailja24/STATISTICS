{
 "cells": [
  {
   "cell_type": "code",
   "execution_count": 32,
   "id": "029d59cf",
   "metadata": {},
   "outputs": [],
   "source": [
    "import numpy as np"
   ]
  },
  {
   "cell_type": "code",
   "execution_count": 33,
   "id": "442b1a3e",
   "metadata": {},
   "outputs": [],
   "source": [
    "a=np.array([45,60,34,80,20])"
   ]
  },
  {
   "cell_type": "code",
   "execution_count": 34,
   "id": "113936cc",
   "metadata": {},
   "outputs": [
    {
     "data": {
      "text/plain": [
       "array([45, 60, 34, 80, 20])"
      ]
     },
     "execution_count": 34,
     "metadata": {},
     "output_type": "execute_result"
    }
   ],
   "source": [
    "a"
   ]
  },
  {
   "cell_type": "code",
   "execution_count": 35,
   "id": "8dc8ea96",
   "metadata": {},
   "outputs": [
    {
     "data": {
      "text/plain": [
       "47.8"
      ]
     },
     "execution_count": 35,
     "metadata": {},
     "output_type": "execute_result"
    }
   ],
   "source": [
    "np.mean(a)"
   ]
  },
  {
   "cell_type": "code",
   "execution_count": 36,
   "id": "c3092c73",
   "metadata": {},
   "outputs": [
    {
     "data": {
      "text/plain": [
       "47.44444444444444"
      ]
     },
     "execution_count": 36,
     "metadata": {},
     "output_type": "execute_result"
    }
   ],
   "source": [
    "b=np.array([74,68,32,15,20,57,80,24,57])\n",
    "b\n",
    "c=np.mean(b)\n",
    "c"
   ]
  },
  {
   "cell_type": "code",
   "execution_count": 37,
   "id": "106af3e1",
   "metadata": {},
   "outputs": [
    {
     "data": {
      "text/plain": [
       "47.44"
      ]
     },
     "execution_count": 37,
     "metadata": {},
     "output_type": "execute_result"
    }
   ],
   "source": [
    "round(c,2)"
   ]
  },
  {
   "cell_type": "code",
   "execution_count": 38,
   "id": "6b1c98dd",
   "metadata": {},
   "outputs": [
    {
     "data": {
      "text/plain": [
       "57.0"
      ]
     },
     "execution_count": 38,
     "metadata": {},
     "output_type": "execute_result"
    }
   ],
   "source": [
    "b=np.array([74,68,32,15,20,57,80,24,57])\n",
    "np.median(b)"
   ]
  },
  {
   "cell_type": "code",
   "execution_count": 39,
   "id": "05c480c6",
   "metadata": {},
   "outputs": [
    {
     "data": {
      "text/plain": [
       "array([[3, 7, 5],\n",
       "       [8, 4, 3],\n",
       "       [2, 4, 9]])"
      ]
     },
     "execution_count": 39,
     "metadata": {},
     "output_type": "execute_result"
    }
   ],
   "source": [
    "a=np.array([[3,7,5],[8,4,3],[2,4,9]])\n",
    "a"
   ]
  },
  {
   "cell_type": "code",
   "execution_count": 40,
   "id": "c110a09a",
   "metadata": {},
   "outputs": [
    {
     "data": {
      "text/plain": [
       "4.0"
      ]
     },
     "execution_count": 40,
     "metadata": {},
     "output_type": "execute_result"
    }
   ],
   "source": [
    "np.median(a)"
   ]
  },
  {
   "cell_type": "code",
   "execution_count": 41,
   "id": "129de2a7",
   "metadata": {},
   "outputs": [
    {
     "data": {
      "text/plain": [
       "array([3., 4., 5.])"
      ]
     },
     "execution_count": 41,
     "metadata": {},
     "output_type": "execute_result"
    }
   ],
   "source": [
    "np.median(a,axis=0)    #columnwise"
   ]
  },
  {
   "cell_type": "code",
   "execution_count": 42,
   "id": "bda2a374",
   "metadata": {},
   "outputs": [
    {
     "data": {
      "text/plain": [
       "array([5., 4., 4.])"
      ]
     },
     "execution_count": 42,
     "metadata": {},
     "output_type": "execute_result"
    }
   ],
   "source": [
    "np.median(a,axis=1)    #rowwise"
   ]
  },
  {
   "cell_type": "code",
   "execution_count": 43,
   "id": "59adecf1",
   "metadata": {},
   "outputs": [
    {
     "data": {
      "text/plain": [
       "85"
      ]
     },
     "execution_count": 43,
     "metadata": {},
     "output_type": "execute_result"
    }
   ],
   "source": [
    "d=np.array([74,68,32,15,20,57,80,24,29,45,66,85,55,57])\n",
    "d.max()\n"
   ]
  },
  {
   "cell_type": "code",
   "execution_count": 44,
   "id": "5ee4a65b",
   "metadata": {},
   "outputs": [
    {
     "data": {
      "text/plain": [
       "15"
      ]
     },
     "execution_count": 44,
     "metadata": {},
     "output_type": "execute_result"
    }
   ],
   "source": [
    "d.min()"
   ]
  },
  {
   "cell_type": "code",
   "execution_count": 45,
   "id": "a18b124d",
   "metadata": {},
   "outputs": [
    {
     "data": {
      "text/plain": [
       "70"
      ]
     },
     "execution_count": 45,
     "metadata": {},
     "output_type": "execute_result"
    }
   ],
   "source": [
    "range_=d.max()-d.min()\n",
    "range_"
   ]
  },
  {
   "cell_type": "code",
   "execution_count": 46,
   "id": "736ca82a",
   "metadata": {},
   "outputs": [
    {
     "data": {
      "text/plain": [
       "499.39285714285717"
      ]
     },
     "execution_count": 46,
     "metadata": {},
     "output_type": "execute_result"
    }
   ],
   "source": [
    "e=np.var(d)\n",
    "e"
   ]
  },
  {
   "cell_type": "code",
   "execution_count": 47,
   "id": "ab6408ea",
   "metadata": {},
   "outputs": [
    {
     "data": {
      "text/plain": [
       "499.39"
      ]
     },
     "execution_count": 47,
     "metadata": {},
     "output_type": "execute_result"
    }
   ],
   "source": [
    "round(e,2)"
   ]
  },
  {
   "cell_type": "code",
   "execution_count": 48,
   "id": "d1d7f7b9",
   "metadata": {},
   "outputs": [
    {
     "data": {
      "text/plain": [
       "22.35"
      ]
     },
     "execution_count": 48,
     "metadata": {},
     "output_type": "execute_result"
    }
   ],
   "source": [
    "e=np.std(d)\n",
    "e\n",
    "round(e,2)"
   ]
  },
  {
   "cell_type": "code",
   "execution_count": 49,
   "id": "51a937d5",
   "metadata": {},
   "outputs": [
    {
     "data": {
      "text/plain": [
       "499.39285714285717"
      ]
     },
     "execution_count": 49,
     "metadata": {},
     "output_type": "execute_result"
    }
   ],
   "source": [
    "np.var(d,axis=0)"
   ]
  },
  {
   "cell_type": "code",
   "execution_count": 50,
   "id": "7b22bf0c",
   "metadata": {},
   "outputs": [
    {
     "data": {
      "text/plain": [
       "array([2.66666667, 4.66666667, 8.66666667])"
      ]
     },
     "execution_count": 50,
     "metadata": {},
     "output_type": "execute_result"
    }
   ],
   "source": [
    "np.var(a,axis=1)"
   ]
  },
  {
   "cell_type": "code",
   "execution_count": 51,
   "id": "be15a3e7",
   "metadata": {},
   "outputs": [
    {
     "data": {
      "text/plain": [
       "array([6.88888889, 2.        , 6.22222222])"
      ]
     },
     "execution_count": 51,
     "metadata": {},
     "output_type": "execute_result"
    }
   ],
   "source": [
    "np.var(a,axis=0)"
   ]
  },
  {
   "cell_type": "code",
   "execution_count": 52,
   "id": "2e81649d",
   "metadata": {},
   "outputs": [
    {
     "data": {
      "text/plain": [
       "array([2.62466929, 1.41421356, 2.49443826])"
      ]
     },
     "execution_count": 52,
     "metadata": {},
     "output_type": "execute_result"
    }
   ],
   "source": [
    "np.std(a,axis=0)"
   ]
  },
  {
   "cell_type": "code",
   "execution_count": 53,
   "id": "ce0f5d7e",
   "metadata": {},
   "outputs": [
    {
     "data": {
      "text/plain": [
       "array([1.63299316, 2.1602469 , 2.94392029])"
      ]
     },
     "execution_count": 53,
     "metadata": {},
     "output_type": "execute_result"
    }
   ],
   "source": [
    "np.std(a,axis=1)"
   ]
  },
  {
   "cell_type": "code",
   "execution_count": 54,
   "id": "5b33fd1c",
   "metadata": {},
   "outputs": [
    {
     "data": {
      "text/html": [
       "<div>\n",
       "<style scoped>\n",
       "    .dataframe tbody tr th:only-of-type {\n",
       "        vertical-align: middle;\n",
       "    }\n",
       "\n",
       "    .dataframe tbody tr th {\n",
       "        vertical-align: top;\n",
       "    }\n",
       "\n",
       "    .dataframe thead th {\n",
       "        text-align: right;\n",
       "    }\n",
       "</style>\n",
       "<table border=\"1\" class=\"dataframe\">\n",
       "  <thead>\n",
       "    <tr style=\"text-align: right;\">\n",
       "      <th></th>\n",
       "      <th>order</th>\n",
       "      <th>name</th>\n",
       "      <th>height</th>\n",
       "    </tr>\n",
       "  </thead>\n",
       "  <tbody>\n",
       "    <tr>\n",
       "      <th>0</th>\n",
       "      <td>1</td>\n",
       "      <td>George Washington</td>\n",
       "      <td>189</td>\n",
       "    </tr>\n",
       "    <tr>\n",
       "      <th>1</th>\n",
       "      <td>2</td>\n",
       "      <td>John Adams</td>\n",
       "      <td>170</td>\n",
       "    </tr>\n",
       "    <tr>\n",
       "      <th>2</th>\n",
       "      <td>3</td>\n",
       "      <td>Thomas Jefferson</td>\n",
       "      <td>189</td>\n",
       "    </tr>\n",
       "    <tr>\n",
       "      <th>3</th>\n",
       "      <td>4</td>\n",
       "      <td>James Madison</td>\n",
       "      <td>163</td>\n",
       "    </tr>\n",
       "    <tr>\n",
       "      <th>4</th>\n",
       "      <td>5</td>\n",
       "      <td>James Monroe</td>\n",
       "      <td>183</td>\n",
       "    </tr>\n",
       "    <tr>\n",
       "      <th>5</th>\n",
       "      <td>6</td>\n",
       "      <td>John Quincy Adams</td>\n",
       "      <td>171</td>\n",
       "    </tr>\n",
       "    <tr>\n",
       "      <th>6</th>\n",
       "      <td>7</td>\n",
       "      <td>Andrew Jackson</td>\n",
       "      <td>185</td>\n",
       "    </tr>\n",
       "    <tr>\n",
       "      <th>7</th>\n",
       "      <td>8</td>\n",
       "      <td>Martin Van Buren</td>\n",
       "      <td>168</td>\n",
       "    </tr>\n",
       "    <tr>\n",
       "      <th>8</th>\n",
       "      <td>9</td>\n",
       "      <td>William Henry Harrison</td>\n",
       "      <td>173</td>\n",
       "    </tr>\n",
       "    <tr>\n",
       "      <th>9</th>\n",
       "      <td>10</td>\n",
       "      <td>John Tyler</td>\n",
       "      <td>183</td>\n",
       "    </tr>\n",
       "    <tr>\n",
       "      <th>10</th>\n",
       "      <td>11</td>\n",
       "      <td>James K. Polk</td>\n",
       "      <td>173</td>\n",
       "    </tr>\n",
       "    <tr>\n",
       "      <th>11</th>\n",
       "      <td>12</td>\n",
       "      <td>Zachary Taylor</td>\n",
       "      <td>173</td>\n",
       "    </tr>\n",
       "    <tr>\n",
       "      <th>12</th>\n",
       "      <td>13</td>\n",
       "      <td>Millard Fillmore</td>\n",
       "      <td>175</td>\n",
       "    </tr>\n",
       "    <tr>\n",
       "      <th>13</th>\n",
       "      <td>14</td>\n",
       "      <td>Franklin Pierce</td>\n",
       "      <td>178</td>\n",
       "    </tr>\n",
       "    <tr>\n",
       "      <th>14</th>\n",
       "      <td>15</td>\n",
       "      <td>James Buchanan</td>\n",
       "      <td>183</td>\n",
       "    </tr>\n",
       "    <tr>\n",
       "      <th>15</th>\n",
       "      <td>16</td>\n",
       "      <td>Abraham Lincoln</td>\n",
       "      <td>193</td>\n",
       "    </tr>\n",
       "    <tr>\n",
       "      <th>16</th>\n",
       "      <td>17</td>\n",
       "      <td>Andrew Johnson</td>\n",
       "      <td>178</td>\n",
       "    </tr>\n",
       "    <tr>\n",
       "      <th>17</th>\n",
       "      <td>18</td>\n",
       "      <td>Ulysses S. Grant</td>\n",
       "      <td>173</td>\n",
       "    </tr>\n",
       "    <tr>\n",
       "      <th>18</th>\n",
       "      <td>19</td>\n",
       "      <td>Rutherford B. Hayes</td>\n",
       "      <td>174</td>\n",
       "    </tr>\n",
       "    <tr>\n",
       "      <th>19</th>\n",
       "      <td>20</td>\n",
       "      <td>James A. Garfield</td>\n",
       "      <td>183</td>\n",
       "    </tr>\n",
       "    <tr>\n",
       "      <th>20</th>\n",
       "      <td>21</td>\n",
       "      <td>Chester A. Arthur</td>\n",
       "      <td>183</td>\n",
       "    </tr>\n",
       "    <tr>\n",
       "      <th>21</th>\n",
       "      <td>23</td>\n",
       "      <td>Benjamin Harrison</td>\n",
       "      <td>168</td>\n",
       "    </tr>\n",
       "    <tr>\n",
       "      <th>22</th>\n",
       "      <td>25</td>\n",
       "      <td>William McKinley</td>\n",
       "      <td>170</td>\n",
       "    </tr>\n",
       "    <tr>\n",
       "      <th>23</th>\n",
       "      <td>26</td>\n",
       "      <td>Theodore Roosevelt</td>\n",
       "      <td>178</td>\n",
       "    </tr>\n",
       "    <tr>\n",
       "      <th>24</th>\n",
       "      <td>27</td>\n",
       "      <td>William Howard Taft</td>\n",
       "      <td>182</td>\n",
       "    </tr>\n",
       "    <tr>\n",
       "      <th>25</th>\n",
       "      <td>28</td>\n",
       "      <td>Woodrow Wilson</td>\n",
       "      <td>180</td>\n",
       "    </tr>\n",
       "    <tr>\n",
       "      <th>26</th>\n",
       "      <td>29</td>\n",
       "      <td>Warren G. Harding</td>\n",
       "      <td>183</td>\n",
       "    </tr>\n",
       "    <tr>\n",
       "      <th>27</th>\n",
       "      <td>30</td>\n",
       "      <td>Calvin Coolidge</td>\n",
       "      <td>178</td>\n",
       "    </tr>\n",
       "    <tr>\n",
       "      <th>28</th>\n",
       "      <td>31</td>\n",
       "      <td>Herbert Hoover</td>\n",
       "      <td>182</td>\n",
       "    </tr>\n",
       "    <tr>\n",
       "      <th>29</th>\n",
       "      <td>32</td>\n",
       "      <td>Franklin D. Roosevelt</td>\n",
       "      <td>188</td>\n",
       "    </tr>\n",
       "    <tr>\n",
       "      <th>30</th>\n",
       "      <td>33</td>\n",
       "      <td>Harry S. Truman</td>\n",
       "      <td>175</td>\n",
       "    </tr>\n",
       "    <tr>\n",
       "      <th>31</th>\n",
       "      <td>34</td>\n",
       "      <td>Dwight D. Eisenhower</td>\n",
       "      <td>179</td>\n",
       "    </tr>\n",
       "    <tr>\n",
       "      <th>32</th>\n",
       "      <td>35</td>\n",
       "      <td>John F. Kennedy</td>\n",
       "      <td>183</td>\n",
       "    </tr>\n",
       "    <tr>\n",
       "      <th>33</th>\n",
       "      <td>36</td>\n",
       "      <td>Lyndon B. Johnson</td>\n",
       "      <td>193</td>\n",
       "    </tr>\n",
       "    <tr>\n",
       "      <th>34</th>\n",
       "      <td>37</td>\n",
       "      <td>Richard Nixon</td>\n",
       "      <td>182</td>\n",
       "    </tr>\n",
       "    <tr>\n",
       "      <th>35</th>\n",
       "      <td>38</td>\n",
       "      <td>Gerald Ford</td>\n",
       "      <td>183</td>\n",
       "    </tr>\n",
       "    <tr>\n",
       "      <th>36</th>\n",
       "      <td>39</td>\n",
       "      <td>Jimmy Carter</td>\n",
       "      <td>177</td>\n",
       "    </tr>\n",
       "    <tr>\n",
       "      <th>37</th>\n",
       "      <td>40</td>\n",
       "      <td>Ronald Reagan</td>\n",
       "      <td>185</td>\n",
       "    </tr>\n",
       "    <tr>\n",
       "      <th>38</th>\n",
       "      <td>41</td>\n",
       "      <td>George H. W. Bush</td>\n",
       "      <td>188</td>\n",
       "    </tr>\n",
       "    <tr>\n",
       "      <th>39</th>\n",
       "      <td>42</td>\n",
       "      <td>Bill Clinton</td>\n",
       "      <td>188</td>\n",
       "    </tr>\n",
       "    <tr>\n",
       "      <th>40</th>\n",
       "      <td>43</td>\n",
       "      <td>George W. Bush</td>\n",
       "      <td>182</td>\n",
       "    </tr>\n",
       "    <tr>\n",
       "      <th>41</th>\n",
       "      <td>44</td>\n",
       "      <td>Barack Obama</td>\n",
       "      <td>185</td>\n",
       "    </tr>\n",
       "  </tbody>\n",
       "</table>\n",
       "</div>"
      ],
      "text/plain": [
       "    order                    name  height\n",
       "0       1       George Washington     189\n",
       "1       2              John Adams     170\n",
       "2       3        Thomas Jefferson     189\n",
       "3       4           James Madison     163\n",
       "4       5            James Monroe     183\n",
       "5       6       John Quincy Adams     171\n",
       "6       7          Andrew Jackson     185\n",
       "7       8        Martin Van Buren     168\n",
       "8       9  William Henry Harrison     173\n",
       "9      10              John Tyler     183\n",
       "10     11           James K. Polk     173\n",
       "11     12          Zachary Taylor     173\n",
       "12     13        Millard Fillmore     175\n",
       "13     14         Franklin Pierce     178\n",
       "14     15          James Buchanan     183\n",
       "15     16         Abraham Lincoln     193\n",
       "16     17          Andrew Johnson     178\n",
       "17     18        Ulysses S. Grant     173\n",
       "18     19     Rutherford B. Hayes     174\n",
       "19     20       James A. Garfield     183\n",
       "20     21       Chester A. Arthur     183\n",
       "21     23       Benjamin Harrison     168\n",
       "22     25        William McKinley     170\n",
       "23     26      Theodore Roosevelt     178\n",
       "24     27     William Howard Taft     182\n",
       "25     28          Woodrow Wilson     180\n",
       "26     29       Warren G. Harding     183\n",
       "27     30         Calvin Coolidge     178\n",
       "28     31          Herbert Hoover     182\n",
       "29     32   Franklin D. Roosevelt     188\n",
       "30     33         Harry S. Truman     175\n",
       "31     34    Dwight D. Eisenhower     179\n",
       "32     35         John F. Kennedy     183\n",
       "33     36       Lyndon B. Johnson     193\n",
       "34     37           Richard Nixon     182\n",
       "35     38             Gerald Ford     183\n",
       "36     39            Jimmy Carter     177\n",
       "37     40           Ronald Reagan     185\n",
       "38     41       George H. W. Bush     188\n",
       "39     42            Bill Clinton     188\n",
       "40     43          George W. Bush     182\n",
       "41     44            Barack Obama     185"
      ]
     },
     "execution_count": 54,
     "metadata": {},
     "output_type": "execute_result"
    }
   ],
   "source": [
    "import pandas as pd\n",
    "data=pd.read_csv('presidents_heights')\n",
    "data"
   ]
  },
  {
   "cell_type": "code",
   "execution_count": 55,
   "id": "25162c93",
   "metadata": {},
   "outputs": [],
   "source": [
    "heights=data['height']"
   ]
  },
  {
   "cell_type": "code",
   "execution_count": 56,
   "id": "c2e6b91f",
   "metadata": {},
   "outputs": [
    {
     "name": "stdout",
     "output_type": "stream",
     "text": [
      "mean height 179.73809523809524\n",
      "standard deviation 7.015868855358296\n",
      "minimum height 163\n",
      "max height 193\n",
      "median height 182.0\n"
     ]
    }
   ],
   "source": [
    "print('mean height',heights.mean())\n",
    "print('standard deviation',heights.std())\n",
    "print('minimum height',heights.min())\n",
    "print('max height',heights.max())\n",
    "print('median height',heights.median())\n",
    "\n",
    "\n",
    "\n"
   ]
  },
  {
   "cell_type": "code",
   "execution_count": 57,
   "id": "60bd8731",
   "metadata": {},
   "outputs": [
    {
     "name": "stdout",
     "output_type": "stream",
     "text": [
      "25th percem=ntile 174.25\n"
     ]
    }
   ],
   "source": [
    "print('25th percem=ntile',np.percentile(heights,25))"
   ]
  },
  {
   "cell_type": "code",
   "execution_count": 58,
   "id": "7fb1bb98",
   "metadata": {},
   "outputs": [
    {
     "name": "stdout",
     "output_type": "stream",
     "text": [
      "75th percem=ntile 183.0\n"
     ]
    }
   ],
   "source": [
    "print('75th percem=ntile',np.percentile(heights,75))"
   ]
  },
  {
   "cell_type": "code",
   "execution_count": 59,
   "id": "5d21fb5f",
   "metadata": {},
   "outputs": [],
   "source": [
    "import matplotlib.pyplot as plt\n",
    "import seaborn as sns"
   ]
  },
  {
   "cell_type": "code",
   "execution_count": 60,
   "id": "5a07983e",
   "metadata": {},
   "outputs": [
    {
     "ename": "NameError",
     "evalue": "name 'x' is not defined",
     "output_type": "error",
     "traceback": [
      "\u001b[1;31m---------------------------------------------------------------------------\u001b[0m",
      "\u001b[1;31mNameError\u001b[0m                                 Traceback (most recent call last)",
      "\u001b[1;32m~\\AppData\\Local\\Temp/ipykernel_1584/3094061712.py\u001b[0m in \u001b[0;36m<module>\u001b[1;34m\u001b[0m\n\u001b[0;32m      3\u001b[0m \u001b[0mplt\u001b[0m\u001b[1;33m.\u001b[0m\u001b[0mxlabel\u001b[0m\u001b[1;33m(\u001b[0m\u001b[1;34m'name'\u001b[0m\u001b[1;33m)\u001b[0m\u001b[1;33m\u001b[0m\u001b[1;33m\u001b[0m\u001b[0m\n\u001b[0;32m      4\u001b[0m \u001b[0mplt\u001b[0m\u001b[1;33m.\u001b[0m\u001b[0mylabel\u001b[0m\u001b[1;33m(\u001b[0m\u001b[1;34m'height'\u001b[0m\u001b[1;33m)\u001b[0m\u001b[1;33m\u001b[0m\u001b[1;33m\u001b[0m\u001b[0m\n\u001b[1;32m----> 5\u001b[1;33m \u001b[0mplt\u001b[0m\u001b[1;33m.\u001b[0m\u001b[0mplot\u001b[0m\u001b[1;33m(\u001b[0m\u001b[0mx\u001b[0m\u001b[1;33m,\u001b[0m\u001b[0my\u001b[0m\u001b[1;33m)\u001b[0m\u001b[1;33m\u001b[0m\u001b[1;33m\u001b[0m\u001b[0m\n\u001b[0m\u001b[0;32m      6\u001b[0m \u001b[0mplt\u001b[0m\u001b[1;33m.\u001b[0m\u001b[0mshow\u001b[0m\u001b[1;33m(\u001b[0m\u001b[1;33m)\u001b[0m\u001b[1;33m\u001b[0m\u001b[1;33m\u001b[0m\u001b[0m\n",
      "\u001b[1;31mNameError\u001b[0m: name 'x' is not defined"
     ]
    },
    {
     "data": {
      "image/png": "[encoded data removed]",
      "text/plain": [
       "<Figure size 432x288 with 1 Axes>"
      ]
     },
     "metadata": {
      "needs_background": "light"
     },
     "output_type": "display_data"
    }
   ],
   "source": [
    "plt.hist(heights)\n",
    "plt.title('height distribution of us presidents')\n",
    "plt.xlabel('name')\n",
    "plt.ylabel('height')\n",
    "plt.plot(x,y)\n",
    "plt.show()"
   ]
  },
  {
   "cell_type": "code",
   "execution_count": null,
   "id": "9bda6f2b",
   "metadata": {},
   "outputs": [],
   "source": []
  }
 ],
 "metadata": {
  "kernelspec": {
   "display_name": "Python 3 (ipykernel)",
   "language": "python",
   "name": "python3"
  },
  "language_info": {
   "codemirror_mode": {
    "name": "ipython",
    "version": 3
   },
   "file_extension": ".py",
   "mimetype": "text/x-python",
   "name": "python",
   "nbconvert_exporter": "python",
   "pygments_lexer": "ipython3",
   "version": "3.9.7"
  }
 },
 "nbformat": 4,
 "nbformat_minor": 5
}
